{
 "cells": [
  {
   "cell_type": "markdown",
   "id": "3697e61e-6889-452e-9b1c-6f655c5b2512",
   "metadata": {},
   "source": [
    "# Data Science Tools and Ecosystem"
   ]
  },
  {
   "cell_type": "markdown",
   "id": "8a3846e1-9d02-4e82-aebf-0f79e61ef6cb",
   "metadata": {},
   "source": [
    "In this notebook, Data Science Tools and Ecosystem are summarized.\n"
   ]
  },
  {
   "cell_type": "markdown",
   "id": "ce42c8c4-c93d-46e1-bc43-24213d7bd25d",
   "metadata": {},
   "source": [
    "**Objectives:**\n",
    "- List popular languages for Data Science\n",
    "- List commonly used libraries used by Data Scientists\n",
    "- List three development environment open source tools used in data science"
   ]
  },
  {
   "cell_type": "markdown",
   "id": "35d65bc9-ac58-44b4-b89f-79a938357e92",
   "metadata": {},
   "source": [
    "Some of the popular languages that Data Scientists use are:\n",
    "1. Python\n",
    "2. R\n",
    "3. Julia"
   ]
  },
  {
   "cell_type": "markdown",
   "id": "d5c8e6ab-619e-4794-9c3b-f14bc3ce21a5",
   "metadata": {
    "tags": []
   },
   "source": [
    "Some of the commonly used libraries used by Data Scientists include:\n",
    "1. Pandas\n",
    "2. Numpy\n",
    "3. Matplotlib"
   ]
  },
  {
   "cell_type": "markdown",
   "id": "1ca56cc6-a511-4325-9b4d-103380ebed50",
   "metadata": {},
   "source": [
    "| Data Science Tools |\n",
    "|---|\n",
    "|Anaconda|\n",
    "|Jupyter Notebooks|\n",
    "|Rstudio|"
   ]
  },
  {
   "cell_type": "markdown",
   "id": "4d40b058-9310-4f81-89ed-01c5b9052afe",
   "metadata": {
    "tags": []
   },
   "source": [
    "### Below are a few examples of evaluating arithmetic expressions in Python\n"
   ]
  },
  {
   "cell_type": "code",
   "execution_count": 3,
   "id": "a54e15ef-cb8a-4829-8a7e-df97ebbbe38d",
   "metadata": {
    "tags": []
   },
   "outputs": [
    {
     "data": {
      "text/plain": [
       "17"
      ]
     },
     "execution_count": 3,
     "metadata": {},
     "output_type": "execute_result"
    }
   ],
   "source": [
    "# This a simple arithmetic expression to mutiply then add integers\n",
    "(3*4)+5"
   ]
  },
  {
   "cell_type": "code",
   "execution_count": 4,
   "id": "618a8fb7-552d-4a0b-af88-1d3d5e685f2c",
   "metadata": {
    "tags": []
   },
   "outputs": [
    {
     "name": "stdout",
     "output_type": "stream",
     "text": [
      "200 minutes is 3.3333333333333335 hours.\n"
     ]
    }
   ],
   "source": [
    "#This will convert 200 minutes to hours by diving by 60\n",
    "\n",
    "print(f'200 minutes is {200/60} hours.')"
   ]
  },
  {
   "cell_type": "markdown",
   "id": "925d7419-3e83-4ab1-b7d2-2ba15603b842",
   "metadata": {},
   "source": [
    "## Author\n",
    "Thibault"
   ]
  },
  {
   "cell_type": "code",
   "execution_count": null,
   "id": "991d32d5-7759-480d-8ab1-6d233bfa0659",
   "metadata": {},
   "outputs": [],
   "source": []
  }
 ],
 "metadata": {
  "kernelspec": {
   "display_name": "Python",
   "language": "python",
   "name": "conda-env-python-py"
  },
  "language_info": {
   "codemirror_mode": {
    "name": "ipython",
    "version": 3
   },
   "file_extension": ".py",
   "mimetype": "text/x-python",
   "name": "python",
   "nbconvert_exporter": "python",
   "pygments_lexer": "ipython3",
   "version": "3.7.12"
  }
 },
 "nbformat": 4,
 "nbformat_minor": 5
}
